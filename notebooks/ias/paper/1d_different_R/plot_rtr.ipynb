{
 "cells": [
  {
   "cell_type": "code",
   "execution_count": 28,
   "metadata": {},
   "outputs": [],
   "source": [
    "import numpy as np\n",
    "import matplotlib.pyplot as plt\n",
    "\n",
    "import scipy.sparse as sps\n",
    "from scipy.sparse.linalg import cg as sp_cg\n",
    "\n",
    "import matplotlib as mpl\n",
    "\n",
    "mpl.rcParams['text.usetex'] = True\n",
    "#mpl.rcParams['text.latex.preamble']=[r\"\\usepackage{amsmath}\"]\n",
    "mpl.rc('text.latex', preamble=r'\\usepackage{amsmath} \\usepackage{bm}')\n",
    "\n",
    "\n",
    "dcolors = {\n",
    "    \"dartmouth_green\": \"#00693e\", \n",
    "    \"forest_green\": \"#12312b\",\n",
    "    \"river_blue\": \"#267aba\",\n",
    "    \"autumn_brown\": \"#643c20\",\n",
    "    \"bonfire_red\": \"#9d162e\",\n",
    "    \"river_navy\": \"#003c73\",\n",
    "    \"spring_green\": \"#c4dd88\",\n",
    "    \"rich_spring_green\": \"#a5d75f\",\n",
    "    \"summer_yellow\": \"#f5dc69\",\n",
    "    \"bonfire_orange\": \"#ffa00f\",\n",
    "    \"tuck_orange\": \"#e32d1c\",\n",
    "    \"web_violet\": \"#8a6996\",\n",
    "    \"midnight_black\": \"#000000\",\n",
    "}\n",
    "\n",
    "from matplotlib.ticker import MaxNLocator\n",
    "\n",
    "\n",
    "import jlinops\n",
    "import sampi"
   ]
  },
  {
   "cell_type": "code",
   "execution_count": 2,
   "metadata": {},
   "outputs": [],
   "source": [
    "n = 25"
   ]
  },
  {
   "cell_type": "code",
   "execution_count": 3,
   "metadata": {},
   "outputs": [],
   "source": [
    "F = jlinops.IdentityOperator( (n,n) )\n",
    "\n",
    "R1_mat, W1_mat = jlinops.first_order_derivative_1d(n, boundary=\"none\") \n",
    "W1 = jlinops.MatrixLinearOperator(W1_mat)\n",
    "R1 = jlinops.MatrixLinearOperator(R1_mat)\n",
    "\n",
    "R2_mat, W2_mat = jlinops.second_order_derivative_1d(n, boundary=\"none\")\n",
    "W2 = jlinops.MatrixLinearOperator(W2_mat)\n",
    "R2 = jlinops.MatrixLinearOperator(R2_mat)\n",
    "\n",
    "R3_mat, W3_mat = jlinops.third_order_derivative_1d(n, boundary=\"none\")\n",
    "W3 = jlinops.MatrixLinearOperator(W3_mat)\n",
    "R3 = jlinops.MatrixLinearOperator(R3_mat)"
   ]
  },
  {
   "cell_type": "code",
   "execution_count": 32,
   "metadata": {},
   "outputs": [
    {
     "data": {
      "image/png": "[encoded data removed]",
      "text/plain": [
       "<Figure size 640x480 with 2 Axes>"
      ]
     },
     "metadata": {},
     "output_type": "display_data"
    }
   ],
   "source": [
    "delta = 1e-12\n",
    "CMAP = \"YlGnBu_r\"\n",
    "np.random.seed(0)\n",
    "weights = np.random.uniform(low=1.0, high=10.0, size=R3.shape[0])\n",
    "plt.imshow( (R3_mat.T @ sps.diags(weights) @ R3_mat).toarray() + delta*np.eye(n) ,cmap=CMAP )\n",
    "plt.colorbar()\n",
    "plt.tight_layout()\n",
    "plt.title(\"$\\\\bm{R}_{ \\\\boldsymbol{\\\\theta}  }^T  \\\\bm{R}_{ \\\\boldsymbol{\\\\theta}  } + 10^{-8} \\\\bm{I}_n$\")\n",
    "plt.savefig(\"rtr_pinv.png\", dpi=250, bbox_inches=\"tight\")\n",
    "plt.savefig(\"rtr_pinv.eps\", bbox_inches=\"tight\")\n",
    "plt.show()"
   ]
  },
  {
   "cell_type": "code",
   "execution_count": null,
   "metadata": {},
   "outputs": [],
   "source": [
    "axs[1].set_title(\"$\\\\bm{R}_{ \\\\boldsymbol{\\\\theta}  }^T  \\\\bm{R}_{ \\\\boldsymbol{\\\\theta}  }$\")"
   ]
  },
  {
   "cell_type": "code",
   "execution_count": null,
   "metadata": {},
   "outputs": [],
   "source": [
    "axs[1].set_title(\"$\\\\bm{R}_{ \\\\boldsymbol{\\\\theta}  }^T  \\\\bm{R}_{ \\\\boldsymbol{\\\\theta}  }$\")"
   ]
  },
  {
   "cell_type": "code",
   "execution_count": null,
   "metadata": {},
   "outputs": [],
   "source": []
  }
 ],
 "metadata": {
  "kernelspec": {
   "display_name": "jlinops",
   "language": "python",
   "name": "python3"
  },
  "language_info": {
   "codemirror_mode": {
    "name": "ipython",
    "version": 3
   },
   "file_extension": ".py",
   "mimetype": "text/x-python",
   "name": "python",
   "nbconvert_exporter": "python",
   "pygments_lexer": "ipython3",
   "version": "3.11.6"
  }
 },
 "nbformat": 4,
 "nbformat_minor": 2
}
