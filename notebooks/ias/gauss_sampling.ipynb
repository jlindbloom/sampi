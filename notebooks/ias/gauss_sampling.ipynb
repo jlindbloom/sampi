{
 "cells": [
  {
   "cell_type": "code",
   "execution_count": 1,
   "id": "0df1cf54-a4c9-4e70-85f5-8d30de8809a9",
   "metadata": {
    "tags": []
   },
   "outputs": [],
   "source": [
    "import numpy as np\n",
    "import matplotlib.pyplot as plt\n",
    "\n",
    "from fastprogress import progress_bar\n",
    "\n",
    "from runningstatistics import StatsTracker\n",
    "import jlinops \n",
    "import sampi"
   ]
  },
  {
   "cell_type": "code",
   "execution_count": 2,
   "id": "0fc6532c-3e11-46cd-b6eb-f27f58822024",
   "metadata": {
    "tags": []
   },
   "outputs": [],
   "source": [
    "class CGLSGaussianSampler:\n",
    "    \"\"\"Represents a Gaussian sampler for Gaussians of the form\n",
    "    -log \\pi(x) = \\sum_i^K || L_i x - s_i ||_2^2 + C.\n",
    "    \n",
    "    \"\"\"\n",
    "    \n",
    "    def __init__(self, factors, shifts):\n",
    "        \n",
    "        self.factors = factors\n",
    "        self.shifts = shifts\n",
    "            \n",
    "        # Checks\n",
    "        self.n = self.factors[0].shape[1]\n",
    "        for factor in self.factors[1:]:\n",
    "            assert factor.shape[1] == self.n, \"incompatible shapes for factors.\"\n",
    "        \n",
    "        # Set None shifts to zeros\n",
    "        for j in len(self.shifts):\n",
    "            if self.shifts[j] is None:\n",
    "                self.shifts[j] = np.zeros(self.factors[j].shape[0])\n",
    "                \n",
    "        # Assemble matrix\n",
    "        self.A = jlinops.StackedOperator(self.factors)\n",
    "        self.m = self.A.shape[0]\n",
    "        \n",
    "        # Assemble deterministic part of rhs\n",
    "        self.rhs_det = np.hstack(self.shifts)\n",
    "        \n",
    "        \n",
    "    def sample(self, n_samples=100, *args, **kwargs):\n",
    "        \n",
    "        # Instantiate tracker\n",
    "        tracker = StatsTracker((n,))\n",
    "        \n",
    "        # Generate samples\n",
    "        for j in range(n_samples):\n",
    "            \n",
    "            # Generate random part of rhs\n",
    "            rhs_rand = np.random.normal(size=self.m)\n",
    "            \n",
    "            # Sum together\n",
    "            rhs = self.rhs_det + rhs_rand\n",
    "            \n",
    "            # Solve the random least-squares problem\n",
    "            cgls_solve = jlinops.cgls(self.A, rhs, *args, **kwargs)\n",
    "            sample = cgls_solve[\"x\"]\n",
    "            tracker.push(sample)\n",
    "            \n",
    "        data = {\n",
    "            \"mean\": tracker.mean(),\n",
    "            \"stdev\": tracker.stdev(),\n",
    "            \"var\": tracker.var(),\n",
    "        }\n",
    "        \n",
    "        return data\n",
    "            "
   ]
  },
  {
   "cell_type": "code",
   "execution_count": null,
   "id": "66dda3a6-1344-4bb3-8d0b-b86bb4ff3491",
   "metadata": {},
   "outputs": [],
   "source": []
  },
  {
   "cell_type": "code",
   "execution_count": null,
   "id": "79f3aaa7-a536-4599-ba15-e1cf995ca853",
   "metadata": {},
   "outputs": [],
   "source": []
  },
  {
   "cell_type": "code",
   "execution_count": null,
   "id": "f63e5633-f544-4f66-9910-7f95c08b183d",
   "metadata": {},
   "outputs": [],
   "source": []
  },
  {
   "cell_type": "code",
   "execution_count": null,
   "id": "40b534f2-4bd9-435b-97a3-20685e01fcca",
   "metadata": {},
   "outputs": [],
   "source": []
  },
  {
   "cell_type": "code",
   "execution_count": null,
   "id": "40cf6145-77fd-4c6a-aa4b-033a2d8d2736",
   "metadata": {},
   "outputs": [],
   "source": []
  },
  {
   "cell_type": "code",
   "execution_count": null,
   "id": "a7b558b0-10fc-4de5-a1ab-bbd6708ac73e",
   "metadata": {},
   "outputs": [],
   "source": []
  },
  {
   "cell_type": "code",
   "execution_count": null,
   "id": "45e208ed-1ce6-4ee0-a6c6-ad1f18bade9a",
   "metadata": {},
   "outputs": [],
   "source": []
  }
 ],
 "metadata": {
  "environment": {
   "kernel": "conda-env-jlinops-py",
   "name": "workbench-notebooks.m113",
   "type": "gcloud",
   "uri": "gcr.io/deeplearning-platform-release/workbench-notebooks:m113"
  },
  "kernelspec": {
   "display_name": "Python 3 (ipykernel) (Local)",
   "language": "python",
   "name": "conda-env-jlinops-py"
  },
  "language_info": {
   "codemirror_mode": {
    "name": "ipython",
    "version": 3
   },
   "file_extension": ".py",
   "mimetype": "text/x-python",
   "name": "python",
   "nbconvert_exporter": "python",
   "pygments_lexer": "ipython3",
   "version": "3.11.6"
  }
 },
 "nbformat": 4,
 "nbformat_minor": 5
}
