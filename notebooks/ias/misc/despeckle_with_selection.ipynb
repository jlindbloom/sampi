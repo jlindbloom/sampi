{
 "cells": [
  {
   "cell_type": "code",
   "execution_count": 1,
   "metadata": {},
   "outputs": [],
   "source": [
    "import numpy as np\n",
    "import matplotlib.pyplot as plt\n",
    "\n",
    "from scipy.sparse.linalg import cg\n",
    "\n",
    "import jlinops\n",
    "import sampi"
   ]
  },
  {
   "cell_type": "markdown",
   "metadata": {},
   "source": [
    "# Toy problem"
   ]
  },
  {
   "cell_type": "code",
   "execution_count": 2,
   "metadata": {},
   "outputs": [],
   "source": [
    "ground_truth = jlinops.piecewise_constant_1d_test_problem() + 1.0\n",
    "#ground_truth = jlinops.comp_emp_bayes_t1d_test_problem()\n",
    "n = len(ground_truth)\n",
    "np.random.seed(0)\n",
    "L = 5\n",
    "noisy_signal = ground_truth*np.random.gamma(shape=L, scale=1/L, size=ground_truth.shape)\n",
    "grid = np.arange(n)"
   ]
  },
  {
   "cell_type": "code",
   "execution_count": 3,
   "metadata": {},
   "outputs": [
    {
     "data": {
      "image/png": "[encoded data removed]",
      "text/plain": [
       "<Figure size 640x480 with 1 Axes>"
      ]
     },
     "metadata": {},
     "output_type": "display_data"
    }
   ],
   "source": [
    "plt.plot(grid, ground_truth, label=\"Ground truth\", color=\"C0\")\n",
    "plt.scatter(grid, noisy_signal, marker=\"x\", label=\"Data\", color=\"C1\", alpha=1.0, s=0.5)\n",
    "plt.legend()\n",
    "plt.show()"
   ]
  },
  {
   "cell_type": "code",
   "execution_count": 4,
   "metadata": {},
   "outputs": [],
   "source": [
    "# Log transformation\n",
    "log_noisy_signal = np.log(noisy_signal)"
   ]
  },
  {
   "cell_type": "markdown",
   "metadata": {},
   "source": [
    "# IAS method"
   ]
  },
  {
   "cell_type": "code",
   "execution_count": 5,
   "metadata": {},
   "outputs": [],
   "source": [
    "\n",
    "class DespecklingIASSolver:\n",
    "    \"\"\"Implements a block coordinate descent solver for the \n",
    "    despeckling problem.\n",
    "    \"\"\"\n",
    "\n",
    "    def __init__(self, R, y, hyperparams, L=1, pdata={}):\n",
    "\n",
    "        # Bind\n",
    "        self.y = y\n",
    "        self.R = R\n",
    "        self.hyperparams = hyperparams\n",
    "        self.L = L\n",
    "        self.n = R.shape[1]\n",
    "    \n",
    "        # Some checks\n",
    "        if not np.isscalar(self.hyperparams[\"prior\"][\"vartheta\"]):\n",
    "            assert len(self.hyperparams[\"prior\"][\"vartheta\"]) == self.R.shape[0], \"If vartheta is a vector, must be same size as output size of regularization operator.\"\n",
    "\n",
    "      \n",
    "        # Handle pdata\n",
    "        self._pdata = pdata\n",
    "        self.pdata = {\n",
    "            \"W\": None,\n",
    "            \"Rpinv_factory\": None,\n",
    "            \"Rinv\": None,\n",
    "            \"FWpinv\": None,\n",
    "        }\n",
    "        for key in self._pdata.keys():\n",
    "            if key in [\"W\", \"Rpinv_factory\", \"Rinv\", \"FWpinv\"]:\n",
    "                self.pdata[key] = self._pdata[key]\n",
    "            else:\n",
    "                raise ValueError\n",
    "        \n",
    "        # Some others\n",
    "        self.m = self.n\n",
    "        self.k = self.R.shape[0] # output size of regularization operator\n",
    "\n",
    "        # Misc\n",
    "        self.last_x = None\n",
    "        self.last_xbar = None\n",
    "\n",
    "\n",
    "\n",
    "    def solve(self, max_iters=100, x0=None, n_newton_steps=10, priorconditioning=False, x_update_solver_params={}, eps=1e-2, early_stopping=True, warmstarting=True):\n",
    "        \"\"\"Driver for the IAS solver.\n",
    "        \"\"\"\n",
    "        \n",
    "        # Handle initialization\n",
    "        if x0 is None:\n",
    "            x = np.ones(self.n)\n",
    "        else:\n",
    "            x = x0\n",
    "        \n",
    "        self.nsolve = None\n",
    "        \n",
    "        # Handle warmstarting\n",
    "        if warmstarting:\n",
    "            x_prev = x.copy()\n",
    "        else:\n",
    "            x_prev = None\n",
    "\n",
    "        # Tracking\n",
    "        n_cg_its_per_iteration = []\n",
    "        obj_vals = []\n",
    "        converged = False\n",
    "        n_iters = 0\n",
    "        \n",
    "        \n",
    "        # Iterate\n",
    "        for j in range(max_iters):\n",
    "            \n",
    "            # Update prior thetas\n",
    "            theta_curr = self.theta_update(x)\n",
    "\n",
    "            # Update x\n",
    "            x = self.x_update(theta_curr, n_newton_steps=n_newton_steps, x_prev=x_prev)\n",
    "            if warmstarting:\n",
    "                x_prev = x.copy()\n",
    "            # n_cg_its_per_iteration.append(n_cg_its)\n",
    "            \n",
    "            # Compute objective value\n",
    "            obj_val = self.objective(x, theta_curr)\n",
    "            obj_vals.append(obj_val)\n",
    "\n",
    "            if (j > 0) and (early_stopping):\n",
    "                converged = self.check_stopping_criterion(theta_prev, theta_curr, eps=eps)\n",
    "                if converged:\n",
    "                    break\n",
    "                else:\n",
    "                    pass\n",
    "                \n",
    "            # Advance\n",
    "            theta_prev = theta_curr\n",
    "            n_iters += 1\n",
    "\n",
    "\n",
    "        data = {\n",
    "            \"x\": x,\n",
    "            \"theta\": theta_curr,\n",
    "            \"n_cg_its_per_iteration\": np.asarray(n_cg_its_per_iteration),\n",
    "            \"converged\": converged,\n",
    "            \"obj_vals\": np.asarray(obj_vals),\n",
    "            \"n_iters\": n_iters\n",
    "        }\n",
    "\n",
    "        return data\n",
    "\n",
    "\n",
    "\n",
    "    def x_update(self, theta, n_newton_steps=10, x_prev=None):\n",
    "        \"\"\"Returns the x-update for fixed local variance parameters theta.\n",
    "        Solves a nonlinear equation using newton's method.\n",
    "        \"\"\"\n",
    "\n",
    "        # Build Rtilde\n",
    "        Rtilde = jlinops.DiagonalOperator(1.0/np.sqrt(theta)) @ self.R\n",
    "\n",
    "        # Initialization\n",
    "        if x_prev is not None:\n",
    "            x = x_prev\n",
    "        else:\n",
    "            x = np.ones(self.n)\n",
    "\n",
    "    \n",
    "        # Only doing non-priorconditioned version for now\n",
    "        for j in range(n_newton_steps):\n",
    "\n",
    "            # Build gradient\n",
    "            gradient = self.L*(1 - np.exp(self.y - x)) + Rtilde.rmatvec(Rtilde.matvec(x))\n",
    "\n",
    "            # Build hessian\n",
    "            Q = jlinops.DiagonalOperator( self.L*np.exp(self.y-x) ) + (Rtilde.T @ Rtilde)\n",
    "\n",
    "            # Solve\n",
    "            self.nsolve, _ = cg(Q, gradient, tol=1e-3, x0=self.nsolve)\n",
    "            x -= self.nsolve\n",
    "\n",
    "        return x\n",
    "\n",
    "\n",
    "    # def x_update(self, theta, noise_var, priorconditioning=False, x_update_solver_params={}, x_prev=None):\n",
    "    #     \"\"\"Returns the x-update for fixed local variance parameters theta.\n",
    "    #     \"\"\"\n",
    "        \n",
    "    #     # Whiten forward operator and data\n",
    "    #     noise_stdev = np.sqrt(noise_var)\n",
    "    #     Ftilde = (1.0/noise_stdev)*self.F\n",
    "    #     ytilde = (1.0/noise_stdev)*self.y\n",
    "        \n",
    "    #     # Build Rtilde\n",
    "    #     Rtilde = jlinops.DiagonalOperator(1.0/np.sqrt(theta)) @ self.R\n",
    "\n",
    "    #     # If not using priorconditioning, solve original problem using CGLS without standardizing\n",
    "    #     if not priorconditioning:\n",
    "            \n",
    "    #         # Solve using cgls\n",
    "    #         cgls_solve = jlinops.trlstsq(Ftilde, Rtilde, ytilde, lam=1.0, initialization=x_prev, **x_update_solver_params)\n",
    "    #         return cgls_solve[\"x\"], cgls_solve[\"n_iters\"]\n",
    "        \n",
    "    #     # If using priorconditioning\n",
    "    #     else:\n",
    "            \n",
    "    #         # Build current Rpinv operator\n",
    "    #         Rpinv = self.pdata[\"Rpinv_factory\"](theta)\n",
    "            \n",
    "    #         # Solve using transformed CGLS\n",
    "    #         cgls_solve = jlinops.trlstsq_standard_form(Ftilde, ytilde, Rpinv=Rpinv, R=Rtilde,\n",
    "    #                                                    AWpinv=self.pdata[\"FWpinv\"], lam=1.0, shift=None, W=self.pdata[\"W\"], initialization=x_prev, **x_update_solver_params)\n",
    "    #         return cgls_solve[\"x\"], cgls_solve[\"n_iters\"]\n",
    "        \n",
    "        \n",
    "        \n",
    "    def theta_update(self, x):\n",
    "        \"\"\"Returns the theta-update for fixed x.\n",
    "        \"\"\"\n",
    "\n",
    "        r, beta, vartheta = self.hyperparams[\"prior\"][\"r\"], self.hyperparams[\"prior\"][\"beta\"], self.hyperparams[\"prior\"][\"vartheta\"]\n",
    "        eta = r*beta - 1.5\n",
    "        initial_value = (eta/r)**(1/r)\n",
    "\n",
    "        # Rescale\n",
    "        z = np.abs(  ( self.R @ (x) )  / np.sqrt(vartheta) )\n",
    "\n",
    "        # If r = 1, use exact formula\n",
    "        if abs(r - 1) < 1e-5:    \n",
    "                # print(\"Using exact formula for r = 1\")\n",
    "                xi = 0.5*( eta + np.sqrt( (eta**2) +  2*(z**2)  ) )\n",
    "                new_theta = vartheta*xi\n",
    "                \n",
    "                return new_theta\n",
    "\n",
    "        elif abs(r + 1) < 1e-5:\n",
    "                \n",
    "                # print(\"Using exact formula for r = -1\")\n",
    "                \n",
    "                k = beta + 1.5\n",
    "                xi = (1/(2*k)) * ( (z**2) + 2 )\n",
    "                new_theta = vartheta*xi\n",
    "                \n",
    "                return new_theta\n",
    "\n",
    "        # Otherwise, solve using the ODE method\n",
    "        else:\n",
    "            \n",
    "            #print(\"Using ODE method\")\n",
    "            \n",
    "            final_times = z\n",
    "\n",
    "            # Sort the final times\n",
    "            argsort = final_times.argsort()\n",
    "            final_times_sorted = final_times[argsort]\n",
    "\n",
    "            # We need to prepend zero to this for the solver\n",
    "            final_times_sorted = np.insert(final_times_sorted, 0, 0)\n",
    "\n",
    "            # Now solve the ODE\n",
    "            ode_sol = odeint(self._conditional_mode_ode_rhs,\n",
    "                                np.atleast_1d(initial_value), \n",
    "                                final_times_sorted,\n",
    "                                args=(r,) # r parameter\n",
    "                            )\n",
    "\n",
    "            # Reshape and drop the first value corresponding to the dummy initial value\n",
    "            ode_sol = ode_sol[1:,0]\n",
    "\n",
    "            # Now back out the updated value of the hyper-parameter\n",
    "            xi = np.zeros_like(final_times)\n",
    "            xi[argsort] = ode_sol\n",
    "            new_theta = vartheta*xi\n",
    "\n",
    "            return new_theta\n",
    "\n",
    "\n",
    "    def _conditional_mode_ode_rhs(self, varphi, z, r):\n",
    "        \"\"\"RHS of the ODE used for updating theta.\n",
    "        \"\"\"\n",
    "        \n",
    "        dvarphidz = (2*z*varphi)/((2*(r**2)*((varphi)**(r+1))) + (z**2))\n",
    "\n",
    "        return dvarphidz\n",
    "    \n",
    "    \n",
    "    \n",
    "    def objective(self, x, theta):\n",
    "        \"\"\"Evaluates the objective function.\n",
    "        \"\"\"\n",
    "        \n",
    "        r, beta, vartheta = self.hyperparams[\"prior\"][\"r\"], self.hyperparams[\"prior\"][\"beta\"], self.hyperparams[\"prior\"][\"vartheta\"]\n",
    "        eta = (r*beta) - 1.5\n",
    "\n",
    "        # Assemble terms\n",
    "        ft_likeihood = self.L*( np.exp(self.y - x) + x - self.y ).sum()\n",
    "        cond_pr = 0.5*((np.linalg.norm( (1.0/np.sqrt(theta))*(self.R @ x)  ))**2)\n",
    "        hyperpr = ((theta/vartheta)**(r)).sum() - eta*(np.log(theta)).sum()\n",
    "        \n",
    "        # Sum together\n",
    "        obj = ft_likeihood + cond_pr + hyperpr\n",
    "        \n",
    "        return obj\n",
    "\n",
    "    \n",
    "    \n",
    "    def check_stopping_criterion(self, theta_prev, theta_curr, eps=1e-3):\n",
    "        \"\"\"Our stopping criterion is whenever the relative norm change in thetas (and noise var, if applicable)\n",
    "        falls below eps, but each separately (unanimous vote).\n",
    "        \"\"\"\n",
    "        \n",
    "        theta_check = (np.linalg.norm(theta_curr - theta_prev)/np.linalg.norm(theta_prev)) < eps\n",
    "       \n",
    "        if theta_check:\n",
    "            return True\n",
    "        else:\n",
    "            return False\n",
    "        \n",
    "    \n",
    "\n",
    "\n"
   ]
  },
  {
   "cell_type": "code",
   "execution_count": 22,
   "metadata": {},
   "outputs": [],
   "source": [
    "# Define forward operator and regularization matrix\n",
    "R, W = jlinops.first_order_derivative_1d(n, boundary=\"zero\")\n",
    "# W = jlinops.MatrixLinearOperator(W)\n",
    "R = jlinops.MatrixLinearOperator(R)"
   ]
  },
  {
   "cell_type": "code",
   "execution_count": 23,
   "metadata": {},
   "outputs": [],
   "source": [
    "# Prior parameters\n",
    "reg_lambda = 1e1\n",
    "vartheta = 2/(reg_lambda**2)\n",
    "hyperparams = {\n",
    "    \"prior\": {\n",
    "        \"r\": 1.0,\n",
    "        \"beta\": 1.5 + 1e-3,\n",
    "        \"vartheta\": vartheta,\n",
    "    },\n",
    "}\n",
    "\n",
    "hyperparams = {\n",
    "    \"prior\": {\n",
    "        \"r\": -1.0,\n",
    "        \"beta\": 1.0,\n",
    "        \"vartheta\": 1e-4,\n",
    "    },\n",
    "}\n",
    "\n",
    "# Create solver\n",
    "solver = DespecklingIASSolver(R, log_noisy_signal, hyperparams, L=L, pdata={})"
   ]
  },
  {
   "cell_type": "code",
   "execution_count": 24,
   "metadata": {},
   "outputs": [
    {
     "name": "stdout",
     "output_type": "stream",
     "text": [
      "0.0002\n",
      "3.2042984971315226e-05\n",
      "6.435922833212889e-06\n",
      "1.3507615259566163e-06\n"
     ]
    }
   ],
   "source": [
    "# Prior parameters\n",
    "reg_lambda = 1e2\n",
    "vartheta = 2/(reg_lambda**2)\n",
    "\n",
    "r = 1.0\n",
    "beta = 1.5 + 1e-1\n",
    "\n",
    "hyperparams = {\n",
    "    \"prior\": {\n",
    "        \"r\": r,\n",
    "        \"beta\": beta,\n",
    "        \"vartheta\": vartheta,\n",
    "    },\n",
    "}\n",
    "\n",
    "# r = -1.0\n",
    "# beta = 1.0\n",
    "# vartheta = 1e-3\n",
    "\n",
    "# hyperparams = {\n",
    "#     \"prior\": {\n",
    "#         \"r\": r,\n",
    "#         \"beta\": beta,\n",
    "#         \"vartheta\": vartheta,\n",
    "#     },\n",
    "# }\n",
    "\n",
    "vartheta_hist = [vartheta]\n",
    "for j in range(4):\n",
    "\n",
    "    print(hyperparams[\"prior\"][\"vartheta\"])\n",
    "    # Create solver\n",
    "    solver = DespecklingIASSolver(R, log_noisy_signal, hyperparams, L=L, pdata={})\n",
    "    \n",
    "    # Run solver\n",
    "    data = solver.solve(max_iters=10, x0=log_noisy_signal, \n",
    "                    n_newton_steps=10, warmstarting=True, eps=1e-3,\n",
    "                    early_stopping=True)\n",
    "    \n",
    "    # Update vartheta\n",
    "    new_vartheta = np.power( (1.0/(beta*len(data[\"theta\"])))*(np.power(data[\"theta\"], r)).sum(), 1.0/r)\n",
    "    #new_vartheta =  (1.0/(beta*len(data[\"theta\"])))*(data[\"theta\"]).sum()\n",
    "\n",
    "    hyperparams = {\n",
    "    \"prior\": {\n",
    "        \"r\": r,\n",
    "        \"beta\": beta,\n",
    "        \"vartheta\": new_vartheta,\n",
    "        }\n",
    "    }"
   ]
  },
  {
   "cell_type": "code",
   "execution_count": 13,
   "metadata": {},
   "outputs": [
    {
     "data": {
      "text/plain": [
       "False"
      ]
     },
     "execution_count": 13,
     "metadata": {},
     "output_type": "execute_result"
    }
   ],
   "source": [
    "data[\"converged\"]"
   ]
  },
  {
   "cell_type": "code",
   "execution_count": 14,
   "metadata": {},
   "outputs": [
    {
     "data": {
      "text/plain": [
       "dict_keys(['x', 'theta', 'n_cg_its_per_iteration', 'converged', 'obj_vals', 'n_iters'])"
      ]
     },
     "execution_count": 14,
     "metadata": {},
     "output_type": "execute_result"
    }
   ],
   "source": [
    "data.keys()"
   ]
  },
  {
   "cell_type": "code",
   "execution_count": 15,
   "metadata": {},
   "outputs": [
    {
     "data": {
      "image/png": "[encoded data removed]",
      "text/plain": [
       "<Figure size 640x480 with 1 Axes>"
      ]
     },
     "metadata": {},
     "output_type": "display_data"
    }
   ],
   "source": [
    "plt.plot(data[\"obj_vals\"])\n",
    "plt.show()"
   ]
  },
  {
   "cell_type": "code",
   "execution_count": 6,
   "metadata": {},
   "outputs": [
    {
     "ename": "NameError",
     "evalue": "name 'data' is not defined",
     "output_type": "error",
     "traceback": [
      "\u001b[0;31m---------------------------------------------------------------------------\u001b[0m",
      "\u001b[0;31mNameError\u001b[0m                                 Traceback (most recent call last)",
      "\u001b[1;32m/Users/jonathanlindbloom/Github/sampi/notebooks/ias/despeckle_with_selection.ipynb Cell 14\u001b[0m line \u001b[0;36m2\n\u001b[1;32m      <a href='vscode-notebook-cell:/Users/jonathanlindbloom/Github/sampi/notebooks/ias/despeckle_with_selection.ipynb#X16sZmlsZQ%3D%3D?line=0'>1</a>\u001b[0m plt\u001b[39m.\u001b[39mplot(log_noisy_signal, alpha\u001b[39m=\u001b[39m\u001b[39m0.2\u001b[39m)\n\u001b[0;32m----> <a href='vscode-notebook-cell:/Users/jonathanlindbloom/Github/sampi/notebooks/ias/despeckle_with_selection.ipynb#X16sZmlsZQ%3D%3D?line=1'>2</a>\u001b[0m plt\u001b[39m.\u001b[39mplot(data[\u001b[39m\"\u001b[39m\u001b[39mx\u001b[39m\u001b[39m\"\u001b[39m], alpha\u001b[39m=\u001b[39m\u001b[39m0.5\u001b[39m)\n\u001b[1;32m      <a href='vscode-notebook-cell:/Users/jonathanlindbloom/Github/sampi/notebooks/ias/despeckle_with_selection.ipynb#X16sZmlsZQ%3D%3D?line=2'>3</a>\u001b[0m plt\u001b[39m.\u001b[39mshow()\n",
      "\u001b[0;31mNameError\u001b[0m: name 'data' is not defined"
     ]
    },
    {
     "data": {
      "image/png": "[encoded data removed]",
      "text/plain": [
       "<Figure size 640x480 with 1 Axes>"
      ]
     },
     "metadata": {},
     "output_type": "display_data"
    }
   ],
   "source": [
    "plt.plot(log_noisy_signal, alpha=0.2)\n",
    "plt.plot(data[\"x\"], alpha=0.5)\n",
    "plt.show()"
   ]
  },
  {
   "cell_type": "code",
   "execution_count": 17,
   "metadata": {},
   "outputs": [
    {
     "data": {
      "image/png": "[encoded data removed]",
      "text/plain": [
       "<Figure size 640x480 with 1 Axes>"
      ]
     },
     "metadata": {},
     "output_type": "display_data"
    }
   ],
   "source": [
    "plt.plot(np.exp(data[\"x\"]))\n",
    "plt.plot(ground_truth)\n",
    "plt.show()"
   ]
  },
  {
   "cell_type": "code",
   "execution_count": null,
   "metadata": {},
   "outputs": [],
   "source": []
  },
  {
   "cell_type": "code",
   "execution_count": null,
   "metadata": {},
   "outputs": [],
   "source": []
  },
  {
   "cell_type": "code",
   "execution_count": null,
   "metadata": {},
   "outputs": [],
   "source": []
  },
  {
   "cell_type": "code",
   "execution_count": null,
   "metadata": {},
   "outputs": [],
   "source": []
  },
  {
   "cell_type": "code",
   "execution_count": null,
   "metadata": {},
   "outputs": [],
   "source": []
  },
  {
   "cell_type": "code",
   "execution_count": null,
   "metadata": {},
   "outputs": [],
   "source": []
  },
  {
   "cell_type": "code",
   "execution_count": null,
   "metadata": {},
   "outputs": [],
   "source": []
  }
 ],
 "metadata": {
  "kernelspec": {
   "display_name": "jlinops",
   "language": "python",
   "name": "python3"
  },
  "language_info": {
   "codemirror_mode": {
    "name": "ipython",
    "version": 3
   },
   "file_extension": ".py",
   "mimetype": "text/x-python",
   "name": "python",
   "nbconvert_exporter": "python",
   "pygments_lexer": "ipython3",
   "version": "3.11.6"
  }
 },
 "nbformat": 4,
 "nbformat_minor": 2
}
