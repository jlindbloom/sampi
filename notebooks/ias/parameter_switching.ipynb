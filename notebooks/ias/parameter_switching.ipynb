{
 "cells": [
  {
   "cell_type": "code",
   "execution_count": 1,
   "metadata": {},
   "outputs": [],
   "source": [
    "import numpy as np\n",
    "import matplotlib.pyplot as plt"
   ]
  },
  {
   "cell_type": "code",
   "execution_count": 3,
   "metadata": {},
   "outputs": [],
   "source": [
    "from scipy.special import gamma\n",
    "from scipy.optimize import root"
   ]
  },
  {
   "cell_type": "code",
   "execution_count": 9,
   "metadata": {},
   "outputs": [],
   "source": [
    "def parameter_switch(r_init, r_target, beta_target, vartheta_target):\n",
    "    \"\"\"Finds beta and vartheta parameters.\n",
    "    \"\"\"\n",
    "\n",
    "    def residual(x):\n",
    "\n",
    "        # Unpack\n",
    "        beta_init, vartheta_init = x\n",
    "\n",
    "        # first component\n",
    "        tmp = vartheta_init*np.power( beta_init - 1.5*(1.0/r_init)  ,1.0/r_init)\n",
    "        tmp2 = vartheta_target*np.power( beta_target - 1.5*(1.0/r_target), 1.0/r_target )\n",
    "        first_component = tmp - tmp2\n",
    "\n",
    "        # second component\n",
    "        tmp3 = vartheta_init*gamma(beta_init + (1.0/r_init))/gamma(beta_init)\n",
    "        tmp4 = vartheta_target*gamma(beta_target + (1.0/r_target))/gamma(beta_target)\n",
    "        second_component = tmp3 - tmp4\n",
    "\n",
    "        return np.hstack([first_component, second_component])\n",
    "    \n",
    "    sol = root(residual, [1.0,1.0])\n",
    "    assert sol.status == 1, \"root finder did not converge.\"\n",
    "    beta_init, vartheta_init = sol.x\n",
    "\n",
    "    return beta_init, vartheta_init\n"
   ]
  },
  {
   "cell_type": "code",
   "execution_count": 11,
   "metadata": {},
   "outputs": [
    {
     "data": {
      "text/plain": [
       "(1.8, 3.333333333333333)"
      ]
     },
     "execution_count": 11,
     "metadata": {},
     "output_type": "execute_result"
    }
   ],
   "source": [
    "parameter_switch(1.0, 0.5, 2.0, 1.0)\n"
   ]
  },
  {
   "cell_type": "code",
   "execution_count": null,
   "metadata": {},
   "outputs": [],
   "source": []
  },
  {
   "cell_type": "code",
   "execution_count": null,
   "metadata": {},
   "outputs": [],
   "source": []
  },
  {
   "cell_type": "code",
   "execution_count": null,
   "metadata": {},
   "outputs": [],
   "source": []
  }
 ],
 "metadata": {
  "kernelspec": {
   "display_name": "jlinops",
   "language": "python",
   "name": "python3"
  },
  "language_info": {
   "codemirror_mode": {
    "name": "ipython",
    "version": 3
   },
   "file_extension": ".py",
   "mimetype": "text/x-python",
   "name": "python",
   "nbconvert_exporter": "python",
   "pygments_lexer": "ipython3",
   "version": "3.11.6"
  }
 },
 "nbformat": 4,
 "nbformat_minor": 2
}
