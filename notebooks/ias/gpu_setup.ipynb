{
 "cells": [
  {
   "cell_type": "code",
   "execution_count": 1,
   "id": "2ab2111c-be96-4fc7-b9bb-060aaeb529cb",
   "metadata": {},
   "outputs": [
    {
     "name": "stderr",
     "output_type": "stream",
     "text": [
      "/opt/conda/envs/jlinops/lib/python3.11/site-packages/cupyx/jit/_interface.py:173: FutureWarning: cupyx.jit.rawkernel is experimental. The interface can change in the future.\n",
      "  cupy._util.experimental('cupyx.jit.rawkernel')\n"
     ]
    }
   ],
   "source": [
    "import numpy as np\n",
    "import matplotlib.pyplot as plt\n",
    "\n",
    "import jlinops\n",
    "\n",
    "import cupy as cp"
   ]
  },
  {
   "cell_type": "code",
   "execution_count": 81,
   "id": "80794079-d0c7-4fef-9da0-4cfed33f3913",
   "metadata": {},
   "outputs": [],
   "source": [
    "class GPUIASSolver:\n",
    "\n",
    "    def __init__(self, F, R, y, hyperparams, noise_var=None, pdata={}):\n",
    "\n",
    "        # Check that everything is on the correct device\n",
    "     \n",
    "        # Bind\n",
    "        self.F = F\n",
    "        self.y = y\n",
    "        self.noise_var = noise_var\n",
    "        self.R = R\n",
    "        self.hyperparams = hyperparams\n",
    "    \n",
    "        # Some checks\n",
    "        assert self.F.shape[1] == self.R.shape[1], \"Shapes of forward and regularization operators do not agree!\"\n",
    "       \n",
    "        if not np.isscalar(self.hyperparams[\"prior\"][\"vartheta\"]):\n",
    "            assert len(self.hyperparams[\"prior\"][\"vartheta\"]) == self.R.shape[0], \"If vartheta is a vector, must be same size as output size of regularization operator.\"\n",
    "\n",
    "        assert not ( ( \"noise_var\" in self.hyperparams.keys() ) and ( noise_var is not None ) ), \"Leave noise_var=None if specifying a hyperprior for the noise variance.\"\n",
    "        \n",
    "        # Handle pdata\n",
    "        self._pdata = pdata\n",
    "        self.pdata = {\n",
    "            \"W\": None,\n",
    "            \"Rpinv_factory\": None,\n",
    "            \"Rinv\": None,\n",
    "            \"FWpinv\": None,\n",
    "        }\n",
    "        for key in self._pdata.keys():\n",
    "            if key in [\"W\", \"Rpinv_factory\", \"Rinv\", \"FWpinv\"]:\n",
    "                self.pdata[key] = self._pdata[key]\n",
    "            else:\n",
    "                raise ValueError\n",
    "        \n",
    "        # Some others\n",
    "        self.n = self.F.shape[1] # dimension of the unknown\n",
    "        self.m = self.F.shape[0] # output size of forward operator\n",
    "        self.k = self.R.shape[0] # output size of regularization operator\n",
    "        \n",
    "        if noise_var is None:\n",
    "            self.updating_noise_var = True\n",
    "        else:\n",
    "            self.updating_noise_var = False\n",
    "\n",
    "        if (self.pdata[\"W\"] is not None) and (self.pdata[\"FWpinv\"] is None):\n",
    "            tmp = jlinops.QRPinvOperator( jlinops.MatrixLinearOperator(self.F.matmat(self.pdata[\"W\"].A)) )\n",
    "            self.pdata[\"FWpinv\"] = tmp\n",
    "      \n",
    "        # Misc\n",
    "        self.last_x = None\n",
    "        self.last_xbar = None\n",
    "\n",
    "\n",
    "\n",
    "    def solve(self, max_iters=100, x0=None, priorconditioning=False, x_update_solver_params={}, eps=1e-2, early_stopping=True, warmstarting=True, x_update_device=\"cpu\"):\n",
    "        \"\"\"Driver for the IAS solver.\n",
    "        \"\"\"\n",
    "\n",
    "        # Handle noise var\n",
    "        if self.updating_noise_var:\n",
    "            noise_var_curr = 1.0\n",
    "        else:\n",
    "            noise_var_curr = self.noise_var\n",
    "        \n",
    "        # Handle initialization\n",
    "        if x0 is None:\n",
    "            x = np.ones(self.n)\n",
    "        else:\n",
    "            x = x0\n",
    "        \n",
    "        # Handle warmstarting\n",
    "        if warmstarting:\n",
    "            x_prev = x.copy()\n",
    "        else:\n",
    "            x_prev = None\n",
    "\n",
    "        # Tracking\n",
    "        n_cg_its_per_iteration = []\n",
    "        obj_vals = []\n",
    "        noise_vars = []\n",
    "        converged = False\n",
    "        n_iters = 0\n",
    "        \n",
    "        \n",
    "        # Iterate\n",
    "        for j in range(max_iters):\n",
    "            \n",
    "            # Update noise variance\n",
    "            if self.updating_noise_var:\n",
    "                noise_var_curr = self.noise_var_update(x)\n",
    "            noise_vars.append(noise_var_curr)\n",
    "\n",
    "            # Update prior thetas\n",
    "            theta_curr = self.theta_update(x)\n",
    "\n",
    "            # Update x\n",
    "            x, n_cg_its = self.x_update(theta_curr, noise_var_curr, priorconditioning, x_update_solver_params, x_prev, x_update_device)\n",
    "            if warmstarting:\n",
    "                x_prev = x.copy()\n",
    "            n_cg_its_per_iteration.append(n_cg_its)\n",
    "            \n",
    "            # Compute objective value\n",
    "            obj_val = self.objective(x, theta_curr, noise_var_curr)\n",
    "            obj_vals.append(obj_val)\n",
    "\n",
    "            if (j > 0) and (early_stopping):\n",
    "                converged = self.check_stopping_criterion(theta_prev, theta_curr, noise_var_prev, noise_var_curr, eps=eps)\n",
    "                if converged:\n",
    "                    break\n",
    "                else:\n",
    "                    pass\n",
    "                \n",
    "            # Advance\n",
    "            theta_prev = theta_curr\n",
    "            noise_var_prev = noise_var_curr\n",
    "            n_iters += 1\n",
    "\n",
    "        data = {\n",
    "            \"x\": x,\n",
    "            \"theta\": theta_curr,\n",
    "            \"n_cg_its_per_iteration\": np.asarray(n_cg_its_per_iteration),\n",
    "            \"converged\": converged,\n",
    "            \"obj_vals\": np.asarray(obj_vals),\n",
    "            \"noise_var\": noise_var_curr,\n",
    "            \"noise_vars\": np.asarray(noise_vars),\n",
    "            \"n_iters\": n_iters\n",
    "        }\n",
    "\n",
    "        return data\n",
    "\n",
    "\n",
    "\n",
    "    def x_update(self, theta, noise_var, priorconditioning=False, x_update_solver_params={}, x_prev=None, x_update_device=\"cpu\"):\n",
    "        \"\"\"Returns the x-update for fixed local variance parameters theta.\n",
    "        \"\"\"\n",
    "        \n",
    "        # Whiten forward operator and data\n",
    "        noise_stdev = np.sqrt(noise_var)\n",
    "        Ftilde = (1.0/noise_stdev)*self.F.T\n",
    "        ytilde = (1.0/noise_stdev)*self.y\n",
    "        \n",
    "        # Build Rtilde\n",
    "        Rtilde = jlinops.DiagonalOperator(1.0/np.sqrt(theta)) @ self.R\n",
    "        \n",
    "        # If not using priorconditioning, solve original problem using CGLS without standardizing\n",
    "        if not priorconditioning:\n",
    "\n",
    "            # Solve using cgls\n",
    "\n",
    "            if x_update_device == \"cpu\":\n",
    "            \n",
    "                cgls_solve = jlinops.trlstsq(Ftilde, Rtilde, ytilde, lam=1.0, initialization=x_prev, **x_update_solver_params)\n",
    "                \n",
    "                return cgls_solve[\"x\"], cgls_solve[\"n_iters\"]\n",
    "\n",
    "            else:\n",
    "\n",
    "                Ftilde = Ftilde.to_gpu()\n",
    "                Rtilde = Rtilde.to_gpu()\n",
    "                ytile = cp.asarray(ytilde)\n",
    "                x_prev =  cp.asarray(x_prev)\n",
    "\n",
    "                cgls_solve = jlinops.trlstsq(Ftilde, Rtilde, ytilde, lam=1.0, initialization=x_prev, **x_update_solver_params)\n",
    "\n",
    "                x = cp.asnumpy(cgls_solve[\"x\"])\n",
    "                \n",
    "                return x, cgls_solve[\"n_iters\"]\n",
    "\n",
    "        \n",
    "        # If using priorconditioning\n",
    "        else:\n",
    "\n",
    "            if x_update_device == \"cpu\":\n",
    "            \n",
    "                # Build current Rpinv operator\n",
    "                Rpinv = self.pdata[\"Rpinv_factory\"](theta)\n",
    "                \n",
    "                # Solve using transformed CGLS\n",
    "                cgls_solve = jlinops.trlstsq_standard_form(Ftilde, ytilde, Rpinv=Rpinv, R=Rtilde,\n",
    "                                                           AWpinv=noise_stdev*self.pdata[\"FWpinv\"], lam=1.0, shift=None, W=self.pdata[\"W\"], initialization=x_prev, **x_update_solver_params)\n",
    "                return cgls_solve[\"x\"], cgls_solve[\"n_iters\"]\n",
    "\n",
    "            else:\n",
    "\n",
    "                # Build current Rpinv operator\n",
    "                Rpinv = self.pdata[\"Rpinv_factory\"](theta)\n",
    "                if Rpinv.device == \"gpu\":\n",
    "                    pass\n",
    "                else:\n",
    "                    Rpinv = Rpinv.to_gpu()\n",
    "\n",
    "                Ftilde = Ftilde.to_gpu()\n",
    "                Rtilde = Rtilde.to_gpu()\n",
    "                ytilde = cp.asarray(ytilde)\n",
    "                x_prev =  cp.asarray(x_prev)\n",
    "                Awpinv = self.pdata[\"FWpinv\"].to_gpu()\n",
    "                W = self.pdata[\"W\"].to_gpu()\n",
    "                \n",
    "                # Solve using transformed CGLS\n",
    "                cgls_solve = jlinops.trlstsq_standard_form(Ftilde, ytilde, Rpinv=Rpinv, R=Rtilde,\n",
    "                                                           AWpinv=noise_stdev*Awpinv, lam=1.0, shift=None, W=W, initialization=x_prev, **x_update_solver_params)\n",
    "\n",
    "                x = cp.asnumpy(cgls_solve[\"x\"])\n",
    "                 \n",
    "                return x, cgls_solve[\"n_iters\"]\n",
    "            \n",
    "        \n",
    "        \n",
    "    def theta_update(self, x):\n",
    "        \"\"\"Returns the theta-update for fixed x.\n",
    "        \"\"\"\n",
    "\n",
    "        r, beta, vartheta = self.hyperparams[\"prior\"][\"r\"], self.hyperparams[\"prior\"][\"beta\"], self.hyperparams[\"prior\"][\"vartheta\"]\n",
    "        eta = r*beta - 1.5\n",
    "        initial_value = (eta/r)**(1/r)\n",
    "\n",
    "        # Rescale\n",
    "        z = np.abs(  ( self.R @ (x) )  / np.sqrt(vartheta) )\n",
    "\n",
    "        # If r = 1, use exact formula\n",
    "        if abs(r - 1) < 1e-5:    \n",
    "                # print(\"Using exact formula for r = 1\")\n",
    "                xi = 0.5*( eta + np.sqrt( (eta**2) +  2*(z**2)  ) )\n",
    "                new_theta = vartheta*xi\n",
    "                \n",
    "                return new_theta\n",
    "\n",
    "        elif abs(r + 1) < 1e-5:\n",
    "                \n",
    "                # print(\"Using exact formula for r = -1\")\n",
    "                \n",
    "                k = beta + 1.5\n",
    "                xi = (1/(2*k)) * ( (z**2) + 2 )\n",
    "                new_theta = vartheta*xi\n",
    "                \n",
    "                return new_theta\n",
    "\n",
    "        # Otherwise, solve using the ODE method\n",
    "        else:\n",
    "            \n",
    "            #print(\"Using ODE method\")\n",
    "            \n",
    "            final_times = z\n",
    "\n",
    "            # Sort the final times\n",
    "            argsort = final_times.argsort()\n",
    "            final_times_sorted = final_times[argsort]\n",
    "\n",
    "            # We need to prepend zero to this for the solver\n",
    "            final_times_sorted = np.insert(final_times_sorted, 0, 0)\n",
    "\n",
    "            # Now solve the ODE\n",
    "            ode_sol = odeint(self._conditional_mode_ode_rhs,\n",
    "                                np.atleast_1d(initial_value), \n",
    "                                final_times_sorted,\n",
    "                                args=(r,) # r parameter\n",
    "                            )\n",
    "\n",
    "            # Reshape and drop the first value corresponding to the dummy initial value\n",
    "            ode_sol = ode_sol[1:,0]\n",
    "\n",
    "            # Now back out the updated value of the hyper-parameter\n",
    "            xi = np.zeros_like(final_times)\n",
    "            xi[argsort] = ode_sol\n",
    "            new_theta = vartheta*xi\n",
    "\n",
    "            return new_theta\n",
    "\n",
    "\n",
    "    def noise_var_update(self, x):\n",
    "        \"\"\"Returns the theta-update for fixed x.\n",
    "        \"\"\"\n",
    "\n",
    "        r, beta, vartheta = self.hyperparams[\"noise_var\"][\"r\"], self.hyperparams[\"noise_var\"][\"beta\"], self.hyperparams[\"noise_var\"][\"vartheta\"]\n",
    "        eta = r*beta - ((self.F.shape[0]+2)/2)\n",
    "        initial_value = (eta/r)**(1/r)\n",
    "\n",
    "        # Rescale\n",
    "        z = np.abs(  np.linalg.norm(self.F @ x - self.y) / np.sqrt(vartheta) )\n",
    "\n",
    "        # If r = 1, use exact formula\n",
    "        if abs(r - 1) < 1e-5:    \n",
    "                # print(\"Using exact formula for r = 1\")\n",
    "                xi = 0.5*( eta + np.sqrt( (eta**2) +  2*(z**2)  ) )\n",
    "                new_theta = vartheta*xi\n",
    "                \n",
    "                return new_theta\n",
    "\n",
    "        elif abs(r + 1) < 1e-5:\n",
    "                \n",
    "                # print(\"Using exact formula for r = -1\")\n",
    "                \n",
    "                k = beta + ((self.F.shape[0]+2)/2)\n",
    "                xi = (1/(2*k)) * ( (z**2) + 2 )\n",
    "                new_theta = vartheta*xi\n",
    "                \n",
    "                return new_theta\n",
    "\n",
    "        # Otherwise, solve using the ODE method\n",
    "        else:\n",
    "            \n",
    "            #print(\"Using ODE method\")\n",
    "            \n",
    "            # final_times = z\n",
    "\n",
    "            # # Sort the final times\n",
    "            # argsort = final_times.argsort()\n",
    "            # final_times_sorted = final_times[argsort]\n",
    "\n",
    "            final_times_sorted = [z]\n",
    "\n",
    "            # We need to prepend zero to this for the solver\n",
    "            final_times_sorted = np.insert(final_times_sorted, 0, 0)\n",
    "\n",
    "            # Now solve the ODE\n",
    "            ode_sol = odeint(self._conditional_mode_ode_rhs,\n",
    "                                np.atleast_1d(initial_value), \n",
    "                                final_times_sorted,\n",
    "                                args=(r,) # r parameter\n",
    "                            )\n",
    "\n",
    "            #print(f\"ODE sol: {ode_sol}\")\n",
    "\n",
    "            # Reshape and drop the first value corresponding to the dummy initial value\n",
    "            ode_sol = ode_sol[1:,0]\n",
    "            xi = ode_sol[0]\n",
    "            new_noise_var = vartheta*xi\n",
    "\n",
    "            return new_noise_var\n",
    "\n",
    "\n",
    "\n",
    "\n",
    "    def _conditional_mode_ode_rhs(self, varphi, z, r):\n",
    "        \"\"\"RHS of the ODE used for updating theta.\n",
    "        \"\"\"\n",
    "        \n",
    "        dvarphidz = (2*z*varphi)/((2*(r**2)*((varphi)**(r+1))) + (z**2))\n",
    "\n",
    "        return dvarphidz\n",
    "    \n",
    "    \n",
    "    \n",
    "    def objective(self, x, theta, noise_var):\n",
    "        \"\"\"Evaluates the objective function.\n",
    "        \"\"\"\n",
    "        \n",
    "        r, beta, vartheta = self.hyperparams[\"prior\"][\"r\"], self.hyperparams[\"prior\"][\"beta\"], self.hyperparams[\"prior\"][\"vartheta\"]\n",
    "        eta = (r*beta) - 1.5\n",
    "\n",
    "        # Assemble terms\n",
    "        gauss_like = (0.5/noise_var)*(np.linalg.norm( self.F.matvec(x) - self.y )**2)\n",
    "        cond_pr = 0.5*((np.linalg.norm( (1.0/np.sqrt(theta))*(self.R @ x)  ))**2)\n",
    "        hyperpr = ((theta/vartheta)**(r)).sum() - eta*(np.log(theta)).sum()\n",
    "        \n",
    "        # Sum together\n",
    "        obj = gauss_like + cond_pr + hyperpr\n",
    "        \n",
    "        # Add part for noise var if needed\n",
    "        if self.updating_noise_var:\n",
    "            r, beta, vartheta = self.hyperparams[\"noise_var\"][\"r\"], self.hyperparams[\"noise_var\"][\"beta\"], self.hyperparams[\"noise_var\"][\"vartheta\"]\n",
    "            eta = (r*beta) - ((self.m + 2)/2)\n",
    "            noise_contrib = ((noise_var/vartheta)**r) - eta*np.log(noise_var)\n",
    "            obj += noise_contrib\n",
    "        \n",
    "        return obj\n",
    "\n",
    "    \n",
    "    \n",
    "    def check_stopping_criterion(self, theta_prev, theta_curr, noise_var_prev, noise_var_curr, eps=1e-3):\n",
    "        \"\"\"Our stopping criterion is whenever the relative norm change in thetas (and noise var, if applicable)\n",
    "        falls below eps, but each separately (unanimous vote).\n",
    "        \"\"\"\n",
    "        \n",
    "        theta_check = (np.linalg.norm(theta_curr - theta_prev)/np.linalg.norm(theta_prev)) < eps\n",
    "        noise_var_check = True\n",
    "        if self.updating_noise_var:\n",
    "            noise_var_check = (np.abs(noise_var_prev - noise_var_curr)/noise_var_prev) < eps\n",
    "        \n",
    "        if theta_check and noise_var_check:\n",
    "            return True\n",
    "        else:\n",
    "            return False\n",
    "        \n"
   ]
  },
  {
   "cell_type": "markdown",
   "id": "2c133765-dbbc-412c-8c12-0da62f4eacdd",
   "metadata": {},
   "source": [
    "# Example"
   ]
  },
  {
   "cell_type": "code",
   "execution_count": 82,
   "id": "23240ec3-a424-4870-82de-e73abc035036",
   "metadata": {},
   "outputs": [],
   "source": [
    "import numpy as np\n",
    "import matplotlib.pyplot as plt\n",
    "\n",
    "import scipy.sparse as sps\n",
    "from scipy.sparse.linalg import cg as sp_cg\n",
    "\n",
    "import matplotlib as mpl\n",
    "\n",
    "# mpl.rcParams['text.usetex'] = True\n",
    "# #mpl.rcParams['text.latex.preamble']=[r\"\\usepackage{amsmath}\"]\n",
    "# mpl.rc('text.latex', preamble=r'\\usepackage{amsmath}')\n",
    "\n",
    "from matplotlib.ticker import MaxNLocator\n",
    "\n",
    "import jlinops\n",
    "import sampi\n",
    "\n",
    "\n",
    "\n",
    "dcolors = {\n",
    "    \"dartmouth_green\": \"#00693e\", \n",
    "    \"forest_green\": \"#12312b\",\n",
    "    \"river_blue\": \"#267aba\",\n",
    "    \"autumn_brown\": \"#643c20\",\n",
    "    \"bonfire_red\": \"#9d162e\",\n",
    "    \"river_navy\": \"#003c73\",\n",
    "    \"spring_green\": \"#c4dd88\",\n",
    "    \"rich_spring_green\": \"#a5d75f\",\n",
    "    \"summer_yellow\": \"#f5dc69\",\n",
    "    \"bonfire_orange\": \"#ffa00f\",\n",
    "    \"tuck_orange\": \"#e32d1c\",\n",
    "    \"web_violet\": \"#8a6996\",\n",
    "    \"midnight_black\": \"#000000\",\n",
    "}"
   ]
  },
  {
   "cell_type": "code",
   "execution_count": 83,
   "id": "b5235fa8-5f11-450b-98c3-fe9226465c27",
   "metadata": {},
   "outputs": [],
   "source": [
    "def test_signal():\n",
    "\n",
    "    dom = np.linspace(0, 1, 1000)\n",
    "    result = np.zeros(1000)\n",
    "    result = 2*np.sin( (50*np.pi)*dom ) + 25*dom\n",
    "    result[400:] += 50\n",
    "    result[700:] += 70\n",
    "\n",
    "    return result"
   ]
  },
  {
   "cell_type": "code",
   "execution_count": 84,
   "id": "fefaae28-a283-46de-881f-52f619f96827",
   "metadata": {},
   "outputs": [],
   "source": [
    "ground_truth = test_signal()\n",
    "noise_var = 10.0\n",
    "noise_sigma = np.sqrt(noise_var)\n",
    "np.random.seed(0)\n",
    "y_obs = ground_truth + noise_sigma*np.random.normal(size=len(ground_truth))\n",
    "n = len(y_obs)"
   ]
  },
  {
   "cell_type": "code",
   "execution_count": 85,
   "id": "85128606-5474-4ecc-bc6e-72fb30cd759b",
   "metadata": {},
   "outputs": [
    {
     "data": {
      "image/png": "[encoded data removed]",
      "text/plain": [
       "<Figure size 1300x500 with 1 Axes>"
      ]
     },
     "metadata": {},
     "output_type": "display_data"
    }
   ],
   "source": [
    "plt.figure(figsize=(13,5))\n",
    "dom = np.linspace(0, 1, n)\n",
    "plt.scatter(dom, ground_truth)\n",
    "plt.scatter(dom, y_obs)\n",
    "plt.show()"
   ]
  },
  {
   "cell_type": "code",
   "execution_count": 86,
   "id": "66c1978c-d5b9-46a1-a0b0-7a03e666bce7",
   "metadata": {},
   "outputs": [],
   "source": [
    "F = jlinops.IdentityOperator( (n,n) )\n",
    "\n",
    "R1_mat, W1_mat = jlinops.first_order_derivative_1d(n, boundary=\"none\") \n",
    "W1 = jlinops.MatrixLinearOperator(W1_mat)\n",
    "R1 = jlinops.MatrixLinearOperator(R1_mat)\n",
    "\n",
    "R2_mat, W2_mat = jlinops.second_order_derivative_1d(n, boundary=\"none\")\n",
    "W2 = jlinops.MatrixLinearOperator(W2_mat)\n",
    "R2 = jlinops.MatrixLinearOperator(R2_mat)\n",
    "\n",
    "R3_mat, W3_mat = jlinops.third_order_derivative_1d(n, boundary=\"none\")\n",
    "W3 = jlinops.MatrixLinearOperator(W3_mat)\n",
    "R3 = jlinops.MatrixLinearOperator(R3_mat)"
   ]
  },
  {
   "cell_type": "code",
   "execution_count": null,
   "id": "71f58edc-82a5-4065-95cd-da90e007971c",
   "metadata": {},
   "outputs": [],
   "source": []
  },
  {
   "cell_type": "code",
   "execution_count": 87,
   "id": "3264b43f-166d-4d40-aecd-e5e54ee5387e",
   "metadata": {},
   "outputs": [],
   "source": [
    "delta = 1e-8\n",
    "\n",
    "def R1pinv_factory(theta):\n",
    "    return jlinops.BandedCholeskyPinvOperator( jlinops.MatrixLinearOperator( sps.diags( 1.0/np.sqrt(theta) ) @ R1_mat ), delta=delta )\n",
    "\n",
    "pdata1 = {\n",
    "    \"W\": W1,\n",
    "    \"Rpinv_factory\": R1pinv_factory,\n",
    "}\n",
    "\n",
    "\n",
    "def R2pinv_factory(theta):\n",
    "    return jlinops.BandedCholeskyPinvOperator( jlinops.MatrixLinearOperator( sps.diags( 1.0/np.sqrt(theta) ) @ R2_mat ), delta=delta )\n",
    "\n",
    "pdata2 = {\n",
    "    \"W\": W2,\n",
    "    \"Rpinv_factory\": R2pinv_factory,\n",
    "}\n",
    "\n",
    "\n",
    "def R3pinv_factory(theta):\n",
    "    return jlinops.BandedCholeskyPinvOperator( jlinops.MatrixLinearOperator( sps.diags( 1.0/np.sqrt(theta) ) @ R3_mat ), delta=delta )\n",
    "\n",
    "pdata3 = {\n",
    "    \"W\": W3,\n",
    "    \"Rpinv_factory\": R3pinv_factory,\n",
    "}"
   ]
  },
  {
   "cell_type": "code",
   "execution_count": 88,
   "id": "e8642908-3fea-4921-963c-c0316c5ce23a",
   "metadata": {},
   "outputs": [],
   "source": [
    "# # # Prior parameters\n",
    "# # reg_lambda = 1e1\n",
    "# # vartheta = 2/(reg_lambda**2)\n",
    "# # hyperparams = {\n",
    "# #     \"prior\": {\n",
    "# #         \"r\": 1.0,\n",
    "# #         \"beta\": 1.5 + 1e-2,\n",
    "# #         \"vartheta\": vartheta,\n",
    "# #     },\n",
    "# #     # \"noise_var\": {\n",
    "# #     #     \"r\": -1.0,\n",
    "# #     #     \"beta\": 1,\n",
    "\n",
    "# #     #     \"vartheta\": 1e-4,\n",
    "# #     # }\n",
    "# # }\n",
    "\n",
    "\n",
    "# Prior parameters\n",
    "\n",
    "reg_lambda = 0.5*1e1\n",
    "vartheta = 2/(reg_lambda**2)\n",
    "hyperparams_r1 = {\n",
    "    \"prior\": {\n",
    "        \"r\": 1.0,\n",
    "        \"beta\": 1.5 + 1e-2,\n",
    "        \"vartheta\": vartheta,\n",
    "    },\n",
    "    \"noise_var\": {\n",
    "        \"r\": -1.0,\n",
    "        \"beta\": 1,\n",
    "\n",
    "        \"vartheta\": 1e-4,\n",
    "    }\n",
    "}\n",
    "\n",
    "\n",
    "reg_lambda = 0.5*1e1\n",
    "vartheta = 2/(reg_lambda**2)\n",
    "hyperparams_r2 = {\n",
    "    \"prior\": {\n",
    "        \"r\": 1.0,\n",
    "        \"beta\": 1.5 + 1e-2,\n",
    "        \"vartheta\": vartheta,\n",
    "    },\n",
    "    \"noise_var\": {\n",
    "        \"r\": -1.0,\n",
    "        \"beta\": 1,\n",
    "\n",
    "        \"vartheta\": 1e-4,\n",
    "    }\n",
    "}\n",
    "\n",
    "\n",
    "reg_lambda = 0.5*1e1\n",
    "vartheta = 2/(reg_lambda**2)\n",
    "hyperparams_r3 = {\n",
    "    \"prior\": {\n",
    "        \"r\": 1.0,\n",
    "        \"beta\": 1.5 + 1e-2,\n",
    "        \"vartheta\": vartheta,\n",
    "    },\n",
    "    \"noise_var\": {\n",
    "        \"r\": -1.0,\n",
    "        \"beta\": 1,\n",
    "        \"vartheta\": 1e-4,\n",
    "    }\n",
    "}\n",
    "\n",
    "\n",
    "\n",
    "\n",
    "\n",
    "# # Prior parameters\n",
    "\n",
    "\n",
    "# vartheta = 1e-3\n",
    "\n",
    "# hyperparams_r1 = {\n",
    "#     \"prior\": {\n",
    "#         \"r\": -1.0,\n",
    "#         \"beta\": 1.0,\n",
    "#         \"vartheta\": vartheta,\n",
    "#     },\n",
    "#     \"noise_var\": {\n",
    "#         \"r\": -1.0,\n",
    "#         \"beta\": 1,\n",
    "#         \"vartheta\": 1e-4,\n",
    "#     }\n",
    "# }\n",
    "\n",
    "\n",
    "# hyperparams_r2 = {\n",
    "#     \"prior\": {\n",
    "#         \"r\": -1.0,\n",
    "#         \"beta\": 1.0,\n",
    "#         \"vartheta\": vartheta,\n",
    "#     },\n",
    "#     \"noise_var\": {\n",
    "#         \"r\": -1.0,\n",
    "#         \"beta\": 1,\n",
    "#         \"vartheta\": 1e-4,\n",
    "#     }\n",
    "# }\n",
    "\n",
    "\n",
    "# hyperparams_r3 = {\n",
    "#     \"prior\": {\n",
    "#         \"r\": -1.0,\n",
    "#         \"beta\": 1.0,\n",
    "#         \"vartheta\": vartheta,\n",
    "#     },\n",
    "#     \"noise_var\": {\n",
    "#         \"r\": -1.0,\n",
    "#         \"beta\": 1,\n",
    "#         \"vartheta\": 1e-4,\n",
    "#     }\n",
    "# }\n",
    "\n",
    "\n",
    "\n",
    "\n",
    "# Create solver\n",
    "# solver_r1 = sampi.IASSolver(F, R1, y_obs, hyperparams, noise_var=noise_var, pdata=pdata1)\n",
    "# solver_r2 = sampi.IASSolver(F, R2, y_obs, hyperparams, noise_var=noise_var, pdata=pdata2)\n",
    "# solver_r3 = sampi.IASSolver(F, R3, y_obs, hyperparams, noise_var=noise_var, pdata=pdata3)\n",
    "\n",
    "solver_r1 = GPUIASSolver(F, R1, y_obs, hyperparams_r1, noise_var=None, pdata=pdata1)\n",
    "solver_r2 = GPUIASSolver(F, R2, y_obs, hyperparams_r2, noise_var=None, pdata=pdata2)\n",
    "solver_r3 = GPUIASSolver(F, R3, y_obs, hyperparams_r3, noise_var=None, pdata=pdata3)"
   ]
  },
  {
   "cell_type": "code",
   "execution_count": 89,
   "id": "d431c913-1ecb-4307-a27b-379652f3f36f",
   "metadata": {},
   "outputs": [
    {
     "data": {
      "text/plain": [
       "{'W': <1000x1 MatrixLinearOperator with dtype=float64>,\n",
       " 'Rpinv_factory': <function __main__.R1pinv_factory(theta)>,\n",
       " 'Rinv': None,\n",
       " 'FWpinv': <1x1000 QRPinvOperator with dtype=float64>}"
      ]
     },
     "execution_count": 89,
     "metadata": {},
     "output_type": "execute_result"
    }
   ],
   "source": [
    "solver_r1.pdata"
   ]
  },
  {
   "cell_type": "code",
   "execution_count": 90,
   "id": "ddc92cd5-929a-4c2e-8ece-6bae8b527826",
   "metadata": {},
   "outputs": [],
   "source": [
    "# Initialize everything at the least-squares reconstruction?\n",
    "x0_r1, _ = sp_cg( (F.T @ F) + 1.0*(R1.T @ R1), F.T @ y_obs, tol=1e-4 )\n",
    "x0_r2, _ = sp_cg( (F.T @ F) + 1.0*(R2.T @ R2), F.T @ y_obs, tol=1e-4 )\n",
    "x0_r3, _ = sp_cg( (F.T @ F) + 1.0*(R3.T @ R3), F.T @ y_obs, tol=1e-4 )"
   ]
  },
  {
   "cell_type": "code",
   "execution_count": 91,
   "id": "edb886ff-8a46-47ec-a430-5f11ad737210",
   "metadata": {},
   "outputs": [],
   "source": [
    "mode = \"gpu\""
   ]
  },
  {
   "cell_type": "code",
   "execution_count": 92,
   "id": "e6f2aa8b-c8f6-4082-bb24-887ad57c9f3b",
   "metadata": {},
   "outputs": [],
   "source": [
    "data_r1 = solver_r1.solve(max_iters=100, x0=x0_r1, \n",
    "                          priorconditioning=False, early_stopping=True, \n",
    "                          warmstarting=True, eps=1e-3,\n",
    "                          x_update_solver_params={\"tol\":1e-3},\n",
    "                         x_update_device=mode)"
   ]
  },
  {
   "cell_type": "code",
   "execution_count": 93,
   "id": "47a5d433-fe47-4b29-8213-1367adddf085",
   "metadata": {},
   "outputs": [],
   "source": [
    "data_pr1 = solver_r1.solve(max_iters=100, x0=x0_r1, \n",
    "                           priorconditioning=True, early_stopping=True, \n",
    "                           warmstarting=True, eps=1e-4,\n",
    "                           x_update_solver_params={\"tol\":1e-3},\n",
    "                          x_update_device=mode)"
   ]
  },
  {
   "cell_type": "code",
   "execution_count": 94,
   "id": "de425ee8-0c6b-4ba7-baf9-7381141889f9",
   "metadata": {},
   "outputs": [],
   "source": [
    "data_r2 = solver_r2.solve(max_iters=100, x0=x0_r2, \n",
    "                          priorconditioning=False, early_stopping=True, \n",
    "                          warmstarting=True, eps=1e-4,\n",
    "                          x_update_solver_params={\"tol\":1e-3},\n",
    "                         x_update_device=mode)"
   ]
  },
  {
   "cell_type": "code",
   "execution_count": 95,
   "id": "e8d4a775-8d62-4d9f-951d-27c4b40997c2",
   "metadata": {},
   "outputs": [],
   "source": [
    "data_pr2 = solver_r2.solve(max_iters=100, x0=x0_r2, \n",
    "                          priorconditioning=True, early_stopping=True, \n",
    "                          warmstarting=True, eps=1e-4,\n",
    "                          x_update_solver_params={\"tol\":1e-3},\n",
    "                          x_update_device=mode)"
   ]
  },
  {
   "cell_type": "code",
   "execution_count": 96,
   "id": "00a5492d-7086-4097-ac5f-4bd6e09346cf",
   "metadata": {},
   "outputs": [],
   "source": [
    "data_r3 = solver_r3.solve(max_iters=100, x0=x0_r3, \n",
    "                           priorconditioning=False, early_stopping=True, \n",
    "                           warmstarting=True, eps=1e-4,\n",
    "                           x_update_solver_params={\"tol\":1e-3},\n",
    "                         x_update_device=mode)"
   ]
  },
  {
   "cell_type": "code",
   "execution_count": 97,
   "id": "d38f3b01-932b-4557-a966-5296edad45bd",
   "metadata": {},
   "outputs": [],
   "source": [
    "data_pr3 = solver_r3.solve(max_iters=100, x0=x0_r3, \n",
    "                           priorconditioning=True, early_stopping=True, \n",
    "                           warmstarting=True, eps=1e-4,\n",
    "                           x_update_solver_params={\"tol\":1e-3},\n",
    "                          x_update_device=mode)"
   ]
  },
  {
   "cell_type": "code",
   "execution_count": 107,
   "id": "bffc69cb-7414-4a07-b632-0e67194bfcc3",
   "metadata": {},
   "outputs": [
    {
     "data": {
      "image/png": "[encoded data removed]",
      "text/plain": [
       "<Figure size 800x800 with 3 Axes>"
      ]
     },
     "metadata": {},
     "output_type": "display_data"
    }
   ],
   "source": [
    "fig, axs = plt.subplots(3,1,figsize=(8,8))\n",
    "\n",
    "axs[0].plot(data_r1[\"n_cg_its_per_iteration\"])\n",
    "axs[0].plot(data_pr1[\"n_cg_its_per_iteration\"])\n",
    "\n",
    "axs[1].plot(data_r2[\"n_cg_its_per_iteration\"])\n",
    "axs[1].plot(data_pr2[\"n_cg_its_per_iteration\"])\n",
    "\n",
    "axs[2].plot(data_r3[\"n_cg_its_per_iteration\"])\n",
    "axs[2].plot(data_pr3[\"n_cg_its_per_iteration\"])\n",
    "\n",
    "plt.show()"
   ]
  },
  {
   "cell_type": "code",
   "execution_count": 108,
   "id": "e40b7019-194b-42cd-8139-d35137885a33",
   "metadata": {},
   "outputs": [
    {
     "data": {
      "image/png": "[encoded data removed]",
      "text/plain": [
       "<Figure size 800x500 with 1 Axes>"
      ]
     },
     "metadata": {},
     "output_type": "display_data"
    }
   ],
   "source": [
    "plt.figure(figsize=(8,5))\n",
    "plt.scatter(dom, data_r1[\"x\"], s=0.1)\n",
    "plt.scatter(dom, data_r2[\"x\"], s=0.1)\n",
    "plt.scatter(dom, data_r3[\"x\"], s=0.1)\n",
    "#plt.plot(dom, ground_truth)\n",
    "plt.show()"
   ]
  },
  {
   "cell_type": "code",
   "execution_count": 109,
   "id": "4f7964db-b295-4267-86ff-db120d10a043",
   "metadata": {},
   "outputs": [
    {
     "data": {
      "image/png": "[encoded data removed]",
      "text/plain": [
       "<Figure size 800x500 with 1 Axes>"
      ]
     },
     "metadata": {},
     "output_type": "display_data"
    }
   ],
   "source": [
    "plt.figure(figsize=(8,5))\n",
    "plt.scatter(dom, data_pr1[\"x\"], s=0.1)\n",
    "plt.scatter(dom, data_pr2[\"x\"], s=0.1)\n",
    "plt.scatter(dom, data_pr3[\"x\"], s=0.1)\n",
    "#plt.plot(dom, ground_truth)\n",
    "plt.show()"
   ]
  },
  {
   "cell_type": "code",
   "execution_count": 110,
   "id": "126f7edd-b7a8-4eac-9907-7c4d22c0a7b1",
   "metadata": {},
   "outputs": [
    {
     "data": {
      "text/plain": [
       "10.85689617746007"
      ]
     },
     "execution_count": 110,
     "metadata": {},
     "output_type": "execute_result"
    }
   ],
   "source": [
    "data_r1[\"noise_var\"]"
   ]
  },
  {
   "cell_type": "code",
   "execution_count": 111,
   "id": "313d65f2-d57c-4657-9431-6176b6d24022",
   "metadata": {},
   "outputs": [
    {
     "data": {
      "text/plain": [
       "10.911850836767547"
      ]
     },
     "execution_count": 111,
     "metadata": {},
     "output_type": "execute_result"
    }
   ],
   "source": [
    "data_pr1[\"noise_var\"]"
   ]
  },
  {
   "cell_type": "code",
   "execution_count": 112,
   "id": "984734d2-b805-419c-9764-757528300fd3",
   "metadata": {},
   "outputs": [
    {
     "data": {
      "text/plain": [
       "13.008586502082933"
      ]
     },
     "execution_count": 112,
     "metadata": {},
     "output_type": "execute_result"
    }
   ],
   "source": [
    "data_r2[\"noise_var\"]"
   ]
  },
  {
   "cell_type": "code",
   "execution_count": 113,
   "id": "9c7c545f-7549-4208-b651-769094b073e3",
   "metadata": {},
   "outputs": [
    {
     "data": {
      "text/plain": [
       "12.959680964501317"
      ]
     },
     "execution_count": 113,
     "metadata": {},
     "output_type": "execute_result"
    }
   ],
   "source": [
    "data_pr2[\"noise_var\"]"
   ]
  },
  {
   "cell_type": "code",
   "execution_count": 114,
   "id": "b6eb4717-1231-441e-afcc-11ce7994f924",
   "metadata": {},
   "outputs": [
    {
     "data": {
      "text/plain": [
       "11.257064769811711"
      ]
     },
     "execution_count": 114,
     "metadata": {},
     "output_type": "execute_result"
    }
   ],
   "source": [
    "data_r3[\"noise_var\"]"
   ]
  },
  {
   "cell_type": "code",
   "execution_count": 115,
   "id": "48238ce3-fc68-4826-a6bc-1d445e8db7ce",
   "metadata": {},
   "outputs": [
    {
     "data": {
      "text/plain": [
       "11.24636291846108"
      ]
     },
     "execution_count": 115,
     "metadata": {},
     "output_type": "execute_result"
    }
   ],
   "source": [
    "data_pr3[\"noise_var\"]"
   ]
  },
  {
   "cell_type": "code",
   "execution_count": null,
   "id": "7b4dc78f-6a44-40c3-882b-ee1073910547",
   "metadata": {},
   "outputs": [],
   "source": []
  },
  {
   "cell_type": "code",
   "execution_count": null,
   "id": "b9ac27c7-8108-4b16-82ba-cd31207d0be7",
   "metadata": {},
   "outputs": [],
   "source": []
  },
  {
   "cell_type": "code",
   "execution_count": null,
   "id": "3bf4f075-0b14-47f2-ab5c-94901ee216f6",
   "metadata": {},
   "outputs": [],
   "source": []
  },
  {
   "cell_type": "code",
   "execution_count": null,
   "id": "acd74b56-f38c-4ecc-ad35-d80ff3278e52",
   "metadata": {},
   "outputs": [],
   "source": []
  }
 ],
 "metadata": {
  "kernelspec": {
   "display_name": "jlinops",
   "language": "python",
   "name": "jlinops"
  },
  "language_info": {
   "codemirror_mode": {
    "name": "ipython",
    "version": 3
   },
   "file_extension": ".py",
   "mimetype": "text/x-python",
   "name": "python",
   "nbconvert_exporter": "python",
   "pygments_lexer": "ipython3",
   "version": "3.11.7"
  }
 },
 "nbformat": 4,
 "nbformat_minor": 5
}
